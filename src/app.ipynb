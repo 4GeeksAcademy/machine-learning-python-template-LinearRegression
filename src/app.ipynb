{
 "cells": [
  {
   "cell_type": "markdown",
   "metadata": {},
   "source": [
    "### 0. Importing modules and data"
   ]
  },
  {
   "cell_type": "code",
   "execution_count": 92,
   "metadata": {},
   "outputs": [],
   "source": [
    "import pandas as pd\n",
    "import myEDA.MyEDA as EDA\n",
    "import os"
   ]
  },
  {
   "cell_type": "code",
   "execution_count": 93,
   "metadata": {},
   "outputs": [
    {
     "data": {
      "text/html": [
       "<div>\n",
       "<style scoped>\n",
       "    .dataframe tbody tr th:only-of-type {\n",
       "        vertical-align: middle;\n",
       "    }\n",
       "\n",
       "    .dataframe tbody tr th {\n",
       "        vertical-align: top;\n",
       "    }\n",
       "\n",
       "    .dataframe thead th {\n",
       "        text-align: right;\n",
       "    }\n",
       "</style>\n",
       "<table border=\"1\" class=\"dataframe\">\n",
       "  <thead>\n",
       "    <tr style=\"text-align: right;\">\n",
       "      <th></th>\n",
       "      <th>age</th>\n",
       "      <th>sex</th>\n",
       "      <th>bmi</th>\n",
       "      <th>children</th>\n",
       "      <th>smoker</th>\n",
       "      <th>region</th>\n",
       "      <th>charges</th>\n",
       "    </tr>\n",
       "  </thead>\n",
       "  <tbody>\n",
       "    <tr>\n",
       "      <th>0</th>\n",
       "      <td>19</td>\n",
       "      <td>female</td>\n",
       "      <td>27.900</td>\n",
       "      <td>0</td>\n",
       "      <td>yes</td>\n",
       "      <td>southwest</td>\n",
       "      <td>16884.92400</td>\n",
       "    </tr>\n",
       "    <tr>\n",
       "      <th>1</th>\n",
       "      <td>18</td>\n",
       "      <td>male</td>\n",
       "      <td>33.770</td>\n",
       "      <td>1</td>\n",
       "      <td>no</td>\n",
       "      <td>southeast</td>\n",
       "      <td>1725.55230</td>\n",
       "    </tr>\n",
       "    <tr>\n",
       "      <th>2</th>\n",
       "      <td>28</td>\n",
       "      <td>male</td>\n",
       "      <td>33.000</td>\n",
       "      <td>3</td>\n",
       "      <td>no</td>\n",
       "      <td>southeast</td>\n",
       "      <td>4449.46200</td>\n",
       "    </tr>\n",
       "    <tr>\n",
       "      <th>3</th>\n",
       "      <td>33</td>\n",
       "      <td>male</td>\n",
       "      <td>22.705</td>\n",
       "      <td>0</td>\n",
       "      <td>no</td>\n",
       "      <td>northwest</td>\n",
       "      <td>21984.47061</td>\n",
       "    </tr>\n",
       "    <tr>\n",
       "      <th>4</th>\n",
       "      <td>32</td>\n",
       "      <td>male</td>\n",
       "      <td>28.880</td>\n",
       "      <td>0</td>\n",
       "      <td>no</td>\n",
       "      <td>northwest</td>\n",
       "      <td>3866.85520</td>\n",
       "    </tr>\n",
       "  </tbody>\n",
       "</table>\n",
       "</div>"
      ],
      "text/plain": [
       "   age     sex     bmi  children smoker     region      charges\n",
       "0   19  female  27.900         0    yes  southwest  16884.92400\n",
       "1   18    male  33.770         1     no  southeast   1725.55230\n",
       "2   28    male  33.000         3     no  southeast   4449.46200\n",
       "3   33    male  22.705         0     no  northwest  21984.47061\n",
       "4   32    male  28.880         0     no  northwest   3866.85520"
      ]
     },
     "execution_count": 93,
     "metadata": {},
     "output_type": "execute_result"
    }
   ],
   "source": [
    "raw_df = pd.read_csv('../data/raw/MedicalIns.csv')\n",
    "raw_df.head()"
   ]
  },
  {
   "cell_type": "markdown",
   "metadata": {},
   "source": [
    "### 1. Objective\n",
    "Estimate the charges that a client have to pay to the medical insurance based on the characteristics collected in the dataset. So the target is the variable 'charges'.\n",
    "\n",
    "### 2.Exploration and superficial cleaning"
   ]
  },
  {
   "cell_type": "code",
   "execution_count": 94,
   "metadata": {},
   "outputs": [
    {
     "name": "stdout",
     "output_type": "stream",
     "text": [
      "Rows: 1338\n",
      "Columns: 7\n",
      "+----------+----------------+------------+-----------+---------------+\n",
      "|          | Non-Null Count | Null Count | Data Type | Data Category |\n",
      "+----------+----------------+------------+-----------+---------------+\n",
      "|   age    |      1338      |     0      |   int64   |    Numeric    |\n",
      "|   sex    |      1338      |     0      |  object   |  Categorical  |\n",
      "|   bmi    |      1338      |     0      |  float64  |    Numeric    |\n",
      "| children |      1338      |     0      |   int64   |    Numeric    |\n",
      "|  smoker  |      1338      |     0      |  object   |  Categorical  |\n",
      "|  region  |      1338      |     0      |  object   |  Categorical  |\n",
      "| charges  |      1338      |     0      |  float64  |    Numeric    |\n",
      "+----------+----------------+------------+-----------+---------------+\n"
     ]
    }
   ],
   "source": [
    "categorical, numerical = EDA.explore(raw_df)"
   ]
  },
  {
   "cell_type": "markdown",
   "metadata": {},
   "source": [
    "The dataset has no null values, and we cannot search for duplicates as we do not have any identification column.\n",
    "\n",
    "#### 2.1 Get a preliminary view of the distribution of values of the target"
   ]
  },
  {
   "cell_type": "code",
   "execution_count": 95,
   "metadata": {},
   "outputs": [
    {
     "data": {
      "text/plain": [
       "<Axes: xlabel='charges', ylabel='Density'>"
      ]
     },
     "execution_count": 95,
     "metadata": {},
     "output_type": "execute_result"
    },
    {
     "data": {
      "image/png": "[encoded data removed]",
      "text/plain": [
       "<Figure size 640x480 with 1 Axes>"
      ]
     },
     "metadata": {},
     "output_type": "display_data"
    }
   ],
   "source": [
    "import seaborn as sns\n",
    "sns.kdeplot(data=raw_df['charges'], color='skyblue', fill=True)"
   ]
  },
  {
   "cell_type": "markdown",
   "metadata": {},
   "source": [
    "Negative values and zeros in the price that customers must pay makes no sense. Make shure that there are no erroneus data"
   ]
  },
  {
   "cell_type": "code",
   "execution_count": 96,
   "metadata": {},
   "outputs": [
    {
     "name": "stdout",
     "output_type": "stream",
     "text": [
      "Charge=0: 0\n",
      "Charge<0: 0\n"
     ]
    }
   ],
   "source": [
    "# Check how many rows have charge=0\n",
    "print('Charge=0:',(raw_df['charges'] == 0).sum())\n",
    "\n",
    "# Check how many rows have charge<0\n",
    "print('Charge<0:',(raw_df['charges'] < 0).sum())"
   ]
  },
  {
   "cell_type": "markdown",
   "metadata": {},
   "source": [
    "#### 2.2 Drop unuseful information\n",
    "In this case, I don't see any irrelevant information\n",
    "\n",
    "### 3. Univariate analysis"
   ]
  },
  {
   "cell_type": "code",
   "execution_count": 97,
   "metadata": {},
   "outputs": [
    {
     "data": {
      "image/png": "[encoded data removed]",
      "text/plain": [
       "<Figure size 1500x500 with 3 Axes>"
      ]
     },
     "metadata": {},
     "output_type": "display_data"
    }
   ],
   "source": [
    "EDA.univariate_hist(categorical, raw_df)"
   ]
  },
  {
   "cell_type": "markdown",
   "metadata": {},
   "source": [
    "As for age and region, the data is uniformly distributed across the categories, however, we see many more non-smokers than smokers. This could introduce bias into our model."
   ]
  },
  {
   "cell_type": "code",
   "execution_count": 98,
   "metadata": {},
   "outputs": [
    {
     "data": {
      "image/png": "[encoded data removed]",
      "text/plain": [
       "<Figure size 1800x600 with 6 Axes>"
      ]
     },
     "metadata": {},
     "output_type": "display_data"
    }
   ],
   "source": [
    "EDA.univariate_histbox(['age','charges','bmi'],raw_df)"
   ]
  },
  {
   "cell_type": "markdown",
   "metadata": {},
   "source": [
    "The age distribution is also uniform. The distribution of BMI is very close to normal, except for some outliers that we can replace with the mean later. The distribution of charges is clearly asymmetric, so the outliers should be replaced by the mode later on. It is interesting to extract the data for the highest prices to see if they have any special common characteristics"
   ]
  },
  {
   "cell_type": "code",
   "execution_count": 99,
   "metadata": {},
   "outputs": [
    {
     "name": "stdout",
     "output_type": "stream",
     "text": [
      "(7, 7)\n"
     ]
    },
    {
     "data": {
      "text/html": [
       "<div>\n",
       "<style scoped>\n",
       "    .dataframe tbody tr th:only-of-type {\n",
       "        vertical-align: middle;\n",
       "    }\n",
       "\n",
       "    .dataframe tbody tr th {\n",
       "        vertical-align: top;\n",
       "    }\n",
       "\n",
       "    .dataframe thead th {\n",
       "        text-align: right;\n",
       "    }\n",
       "</style>\n",
       "<table border=\"1\" class=\"dataframe\">\n",
       "  <thead>\n",
       "    <tr style=\"text-align: right;\">\n",
       "      <th></th>\n",
       "      <th>age</th>\n",
       "      <th>sex</th>\n",
       "      <th>bmi</th>\n",
       "      <th>children</th>\n",
       "      <th>smoker</th>\n",
       "      <th>region</th>\n",
       "      <th>charges</th>\n",
       "    </tr>\n",
       "  </thead>\n",
       "  <tbody>\n",
       "    <tr>\n",
       "      <th>34</th>\n",
       "      <td>28</td>\n",
       "      <td>male</td>\n",
       "      <td>36.400</td>\n",
       "      <td>1</td>\n",
       "      <td>yes</td>\n",
       "      <td>southwest</td>\n",
       "      <td>51194.55914</td>\n",
       "    </tr>\n",
       "    <tr>\n",
       "      <th>543</th>\n",
       "      <td>54</td>\n",
       "      <td>female</td>\n",
       "      <td>47.410</td>\n",
       "      <td>0</td>\n",
       "      <td>yes</td>\n",
       "      <td>southeast</td>\n",
       "      <td>63770.42801</td>\n",
       "    </tr>\n",
       "    <tr>\n",
       "      <th>577</th>\n",
       "      <td>31</td>\n",
       "      <td>female</td>\n",
       "      <td>38.095</td>\n",
       "      <td>1</td>\n",
       "      <td>yes</td>\n",
       "      <td>northeast</td>\n",
       "      <td>58571.07448</td>\n",
       "    </tr>\n",
       "    <tr>\n",
       "      <th>819</th>\n",
       "      <td>33</td>\n",
       "      <td>female</td>\n",
       "      <td>35.530</td>\n",
       "      <td>0</td>\n",
       "      <td>yes</td>\n",
       "      <td>northwest</td>\n",
       "      <td>55135.40209</td>\n",
       "    </tr>\n",
       "    <tr>\n",
       "      <th>1146</th>\n",
       "      <td>60</td>\n",
       "      <td>male</td>\n",
       "      <td>32.800</td>\n",
       "      <td>0</td>\n",
       "      <td>yes</td>\n",
       "      <td>southwest</td>\n",
       "      <td>52590.82939</td>\n",
       "    </tr>\n",
       "    <tr>\n",
       "      <th>1230</th>\n",
       "      <td>52</td>\n",
       "      <td>male</td>\n",
       "      <td>34.485</td>\n",
       "      <td>3</td>\n",
       "      <td>yes</td>\n",
       "      <td>northwest</td>\n",
       "      <td>60021.39897</td>\n",
       "    </tr>\n",
       "    <tr>\n",
       "      <th>1300</th>\n",
       "      <td>45</td>\n",
       "      <td>male</td>\n",
       "      <td>30.360</td>\n",
       "      <td>0</td>\n",
       "      <td>yes</td>\n",
       "      <td>southeast</td>\n",
       "      <td>62592.87309</td>\n",
       "    </tr>\n",
       "  </tbody>\n",
       "</table>\n",
       "</div>"
      ],
      "text/plain": [
       "      age     sex     bmi  children smoker     region      charges\n",
       "34     28    male  36.400         1    yes  southwest  51194.55914\n",
       "543    54  female  47.410         0    yes  southeast  63770.42801\n",
       "577    31  female  38.095         1    yes  northeast  58571.07448\n",
       "819    33  female  35.530         0    yes  northwest  55135.40209\n",
       "1146   60    male  32.800         0    yes  southwest  52590.82939\n",
       "1230   52    male  34.485         3    yes  northwest  60021.39897\n",
       "1300   45    male  30.360         0    yes  southeast  62592.87309"
      ]
     },
     "execution_count": 99,
     "metadata": {},
     "output_type": "execute_result"
    }
   ],
   "source": [
    "hight_charges =  raw_df[raw_df['charges'] > 50000]\n",
    "print(hight_charges.shape)\n",
    "hight_charges"
   ]
  },
  {
   "cell_type": "code",
   "execution_count": 100,
   "metadata": {},
   "outputs": [
    {
     "name": "stdout",
     "output_type": "stream",
     "text": [
      "Smokers: 274\n",
      "High bmi: 705\n",
      "Older than 30: 894\n",
      "Smokers and high bmi: 144\n"
     ]
    }
   ],
   "source": [
    "print('Smokers:',(raw_df['smoker'] == 'yes').sum())\n",
    "print('High bmi:',(raw_df['bmi'] >30).sum())\n",
    "print('Older than 30:',(raw_df['age'] >30).sum())\n",
    "print('Smokers and high bmi:', ((raw_df['smoker'] == 'yes') & (raw_df['bmi'] > 30)).sum())"
   ]
  },
  {
   "cell_type": "markdown",
   "metadata": {},
   "source": [
    "All customers with high prices are smokers and have above-average BMI, but they are not the only ones, so we cannot determine from this analysis why they have such a high price.\n",
    "\n",
    "### 4. Multivariate analisis"
   ]
  },
  {
   "cell_type": "code",
   "execution_count": 101,
   "metadata": {},
   "outputs": [],
   "source": [
    "def assign_value(var):\n",
    "    return (5 if var >= 0 and var <= 10 else\n",
    "            15 if var > 10 and var <= 20 else\n",
    "            25 if var > 20 and var <= 30 else\n",
    "            35 if var > 30 and var <= 40 else\n",
    "            45 if var > 40 and var <= 50 else\n",
    "            55 if var > 50 and var <= 60 else\n",
    "            65 if var > 60 and var <= 70 else\n",
    "            75 if var > 70 and var <= 80 else\n",
    "            85 if var > 80 and var <= 90 else\n",
    "            95 if var > 90 and var <= 1000 else\n",
    "            105)"
   ]
  },
  {
   "cell_type": "code",
   "execution_count": 102,
   "metadata": {},
   "outputs": [
    {
     "data": {
      "image/png": "[encoded data removed]",
      "text/plain": [
       "<Figure size 1000x1500 with 3 Axes>"
      ]
     },
     "metadata": {},
     "output_type": "display_data"
    }
   ],
   "source": [
    "copy = raw_df.copy()\n",
    "copy['grouped_age'] = copy['age'].apply(assign_value)\n",
    "copy['grouped_bmi'] = copy['bmi'].apply(assign_value)\n",
    "\n",
    "variable_lists=[['grouped_age','charges','smoker'],['grouped_age','charges','grouped_bmi'],['sex','charges','children']]\n",
    "EDA.multivariate_barplots(copy, variable_lists,y_='mean')"
   ]
  },
  {
   "cell_type": "markdown",
   "metadata": {},
   "source": [
    "The price is much higher for smokers and increases with age. Higher BMIs also have higher prices, but age is not relevant after 25. Having children does not penalize based on the client's gender"
   ]
  },
  {
   "cell_type": "code",
   "execution_count": 103,
   "metadata": {},
   "outputs": [
    {
     "data": {
      "image/png": "[encoded data removed]",
      "text/plain": [
       "<Figure size 1500x1500 with 2 Axes>"
      ]
     },
     "metadata": {},
     "output_type": "display_data"
    }
   ],
   "source": [
    "EDA.correlation_matrix(raw_df, categorical)"
   ]
  },
  {
   "cell_type": "markdown",
   "metadata": {},
   "source": [
    "The correlation matrix indicates what we have previously seen, the most determining factors for the price of medical insurance are age, BMI, and smoking status. Gender, region, and children seem irrelevant. There appears to be a mild correlation between region and BMI. In feature selection, we can leave 4 variables"
   ]
  },
  {
   "cell_type": "code",
   "execution_count": 104,
   "metadata": {},
   "outputs": [
    {
     "data": {
      "text/html": [
       "<div>\n",
       "<style scoped>\n",
       "    .dataframe tbody tr th:only-of-type {\n",
       "        vertical-align: middle;\n",
       "    }\n",
       "\n",
       "    .dataframe tbody tr th {\n",
       "        vertical-align: top;\n",
       "    }\n",
       "\n",
       "    .dataframe thead th {\n",
       "        text-align: right;\n",
       "    }\n",
       "</style>\n",
       "<table border=\"1\" class=\"dataframe\">\n",
       "  <thead>\n",
       "    <tr style=\"text-align: right;\">\n",
       "      <th></th>\n",
       "      <th>age</th>\n",
       "      <th>sex</th>\n",
       "      <th>bmi</th>\n",
       "      <th>children</th>\n",
       "      <th>smoker</th>\n",
       "      <th>region</th>\n",
       "      <th>charges</th>\n",
       "    </tr>\n",
       "  </thead>\n",
       "  <tbody>\n",
       "    <tr>\n",
       "      <th>0</th>\n",
       "      <td>19</td>\n",
       "      <td>0</td>\n",
       "      <td>27.900</td>\n",
       "      <td>0</td>\n",
       "      <td>0</td>\n",
       "      <td>0</td>\n",
       "      <td>16884.92400</td>\n",
       "    </tr>\n",
       "    <tr>\n",
       "      <th>1</th>\n",
       "      <td>18</td>\n",
       "      <td>1</td>\n",
       "      <td>33.770</td>\n",
       "      <td>1</td>\n",
       "      <td>1</td>\n",
       "      <td>1</td>\n",
       "      <td>1725.55230</td>\n",
       "    </tr>\n",
       "    <tr>\n",
       "      <th>2</th>\n",
       "      <td>28</td>\n",
       "      <td>1</td>\n",
       "      <td>33.000</td>\n",
       "      <td>3</td>\n",
       "      <td>1</td>\n",
       "      <td>1</td>\n",
       "      <td>4449.46200</td>\n",
       "    </tr>\n",
       "    <tr>\n",
       "      <th>3</th>\n",
       "      <td>33</td>\n",
       "      <td>1</td>\n",
       "      <td>22.705</td>\n",
       "      <td>0</td>\n",
       "      <td>1</td>\n",
       "      <td>2</td>\n",
       "      <td>21984.47061</td>\n",
       "    </tr>\n",
       "    <tr>\n",
       "      <th>4</th>\n",
       "      <td>32</td>\n",
       "      <td>1</td>\n",
       "      <td>28.880</td>\n",
       "      <td>0</td>\n",
       "      <td>1</td>\n",
       "      <td>2</td>\n",
       "      <td>3866.85520</td>\n",
       "    </tr>\n",
       "  </tbody>\n",
       "</table>\n",
       "</div>"
      ],
      "text/plain": [
       "   age  sex     bmi  children  smoker  region      charges\n",
       "0   19    0  27.900         0       0       0  16884.92400\n",
       "1   18    1  33.770         1       1       1   1725.55230\n",
       "2   28    1  33.000         3       1       1   4449.46200\n",
       "3   33    1  22.705         0       1       2  21984.47061\n",
       "4   32    1  28.880         0       1       2   3866.85520"
      ]
     },
     "execution_count": 104,
     "metadata": {},
     "output_type": "execute_result"
    }
   ],
   "source": [
    "raw_df.head()"
   ]
  },
  {
   "cell_type": "markdown",
   "metadata": {},
   "source": [
    "### 5. Feature engineering\n",
    "#### 5.1 Outliers"
   ]
  },
  {
   "cell_type": "code",
   "execution_count": 105,
   "metadata": {},
   "outputs": [
    {
     "data": {
      "image/png": "[encoded data removed]",
      "text/plain": [
       "<Figure size 1500x1000 with 4 Axes>"
      ]
     },
     "metadata": {},
     "output_type": "display_data"
    }
   ],
   "source": [
    "EDA.numerical_box(numerical, raw_df)"
   ]
  },
  {
   "cell_type": "markdown",
   "metadata": {},
   "source": [
    "Let's search for outliers with bmi out of a iqr with sigma= 1"
   ]
  },
  {
   "cell_type": "code",
   "execution_count": 106,
   "metadata": {},
   "outputs": [
    {
     "name": "stdout",
     "output_type": "stream",
     "text": [
      "43.09125 17.89875\n",
      "47 outliers have been found\n"
     ]
    }
   ],
   "source": [
    "out, new =EDA.outliers_iqr(raw_df,'bmi',1,Do='nothing')"
   ]
  },
  {
   "cell_type": "code",
   "execution_count": 107,
   "metadata": {},
   "outputs": [
    {
     "data": {
      "text/html": [
       "<div>\n",
       "<style scoped>\n",
       "    .dataframe tbody tr th:only-of-type {\n",
       "        vertical-align: middle;\n",
       "    }\n",
       "\n",
       "    .dataframe tbody tr th {\n",
       "        vertical-align: top;\n",
       "    }\n",
       "\n",
       "    .dataframe thead th {\n",
       "        text-align: right;\n",
       "    }\n",
       "</style>\n",
       "<table border=\"1\" class=\"dataframe\">\n",
       "  <thead>\n",
       "    <tr style=\"text-align: right;\">\n",
       "      <th></th>\n",
       "      <th>age</th>\n",
       "      <th>sex</th>\n",
       "      <th>bmi</th>\n",
       "      <th>children</th>\n",
       "      <th>smoker</th>\n",
       "      <th>region</th>\n",
       "      <th>charges</th>\n",
       "    </tr>\n",
       "  </thead>\n",
       "  <tbody>\n",
       "    <tr>\n",
       "      <th>28</th>\n",
       "      <td>23</td>\n",
       "      <td>1</td>\n",
       "      <td>17.385</td>\n",
       "      <td>1</td>\n",
       "      <td>1</td>\n",
       "      <td>2</td>\n",
       "      <td>2775.19215</td>\n",
       "    </tr>\n",
       "    <tr>\n",
       "      <th>116</th>\n",
       "      <td>58</td>\n",
       "      <td>1</td>\n",
       "      <td>49.060</td>\n",
       "      <td>0</td>\n",
       "      <td>1</td>\n",
       "      <td>1</td>\n",
       "      <td>11381.32540</td>\n",
       "    </tr>\n",
       "    <tr>\n",
       "      <th>128</th>\n",
       "      <td>32</td>\n",
       "      <td>0</td>\n",
       "      <td>17.765</td>\n",
       "      <td>2</td>\n",
       "      <td>0</td>\n",
       "      <td>2</td>\n",
       "      <td>32734.18630</td>\n",
       "    </tr>\n",
       "    <tr>\n",
       "      <th>172</th>\n",
       "      <td>18</td>\n",
       "      <td>1</td>\n",
       "      <td>15.960</td>\n",
       "      <td>0</td>\n",
       "      <td>1</td>\n",
       "      <td>3</td>\n",
       "      <td>1694.79640</td>\n",
       "    </tr>\n",
       "    <tr>\n",
       "      <th>232</th>\n",
       "      <td>19</td>\n",
       "      <td>0</td>\n",
       "      <td>17.800</td>\n",
       "      <td>0</td>\n",
       "      <td>1</td>\n",
       "      <td>0</td>\n",
       "      <td>1727.78500</td>\n",
       "    </tr>\n",
       "    <tr>\n",
       "      <th>250</th>\n",
       "      <td>18</td>\n",
       "      <td>1</td>\n",
       "      <td>17.290</td>\n",
       "      <td>2</td>\n",
       "      <td>0</td>\n",
       "      <td>3</td>\n",
       "      <td>12829.45510</td>\n",
       "    </tr>\n",
       "    <tr>\n",
       "      <th>286</th>\n",
       "      <td>46</td>\n",
       "      <td>0</td>\n",
       "      <td>48.070</td>\n",
       "      <td>2</td>\n",
       "      <td>1</td>\n",
       "      <td>3</td>\n",
       "      <td>9432.92530</td>\n",
       "    </tr>\n",
       "    <tr>\n",
       "      <th>292</th>\n",
       "      <td>25</td>\n",
       "      <td>1</td>\n",
       "      <td>45.540</td>\n",
       "      <td>2</td>\n",
       "      <td>0</td>\n",
       "      <td>1</td>\n",
       "      <td>42112.23560</td>\n",
       "    </tr>\n",
       "    <tr>\n",
       "      <th>356</th>\n",
       "      <td>46</td>\n",
       "      <td>1</td>\n",
       "      <td>43.890</td>\n",
       "      <td>3</td>\n",
       "      <td>1</td>\n",
       "      <td>1</td>\n",
       "      <td>8944.11510</td>\n",
       "    </tr>\n",
       "    <tr>\n",
       "      <th>383</th>\n",
       "      <td>35</td>\n",
       "      <td>0</td>\n",
       "      <td>43.340</td>\n",
       "      <td>2</td>\n",
       "      <td>1</td>\n",
       "      <td>1</td>\n",
       "      <td>5846.91760</td>\n",
       "    </tr>\n",
       "    <tr>\n",
       "      <th>401</th>\n",
       "      <td>47</td>\n",
       "      <td>1</td>\n",
       "      <td>47.520</td>\n",
       "      <td>1</td>\n",
       "      <td>1</td>\n",
       "      <td>1</td>\n",
       "      <td>8083.91980</td>\n",
       "    </tr>\n",
       "    <tr>\n",
       "      <th>410</th>\n",
       "      <td>19</td>\n",
       "      <td>1</td>\n",
       "      <td>17.480</td>\n",
       "      <td>0</td>\n",
       "      <td>1</td>\n",
       "      <td>2</td>\n",
       "      <td>1621.34020</td>\n",
       "    </tr>\n",
       "    <tr>\n",
       "      <th>412</th>\n",
       "      <td>26</td>\n",
       "      <td>0</td>\n",
       "      <td>17.195</td>\n",
       "      <td>2</td>\n",
       "      <td>0</td>\n",
       "      <td>3</td>\n",
       "      <td>14455.64405</td>\n",
       "    </tr>\n",
       "    <tr>\n",
       "      <th>428</th>\n",
       "      <td>21</td>\n",
       "      <td>0</td>\n",
       "      <td>16.815</td>\n",
       "      <td>1</td>\n",
       "      <td>1</td>\n",
       "      <td>3</td>\n",
       "      <td>3167.45585</td>\n",
       "    </tr>\n",
       "    <tr>\n",
       "      <th>438</th>\n",
       "      <td>52</td>\n",
       "      <td>0</td>\n",
       "      <td>46.750</td>\n",
       "      <td>5</td>\n",
       "      <td>1</td>\n",
       "      <td>1</td>\n",
       "      <td>12592.53450</td>\n",
       "    </tr>\n",
       "    <tr>\n",
       "      <th>454</th>\n",
       "      <td>32</td>\n",
       "      <td>1</td>\n",
       "      <td>46.530</td>\n",
       "      <td>2</td>\n",
       "      <td>1</td>\n",
       "      <td>1</td>\n",
       "      <td>4686.38870</td>\n",
       "    </tr>\n",
       "    <tr>\n",
       "      <th>493</th>\n",
       "      <td>61</td>\n",
       "      <td>1</td>\n",
       "      <td>43.400</td>\n",
       "      <td>0</td>\n",
       "      <td>1</td>\n",
       "      <td>0</td>\n",
       "      <td>12574.04900</td>\n",
       "    </tr>\n",
       "    <tr>\n",
       "      <th>521</th>\n",
       "      <td>32</td>\n",
       "      <td>0</td>\n",
       "      <td>44.220</td>\n",
       "      <td>0</td>\n",
       "      <td>1</td>\n",
       "      <td>1</td>\n",
       "      <td>3994.17780</td>\n",
       "    </tr>\n",
       "    <tr>\n",
       "      <th>543</th>\n",
       "      <td>54</td>\n",
       "      <td>0</td>\n",
       "      <td>47.410</td>\n",
       "      <td>0</td>\n",
       "      <td>0</td>\n",
       "      <td>1</td>\n",
       "      <td>63770.42801</td>\n",
       "    </tr>\n",
       "    <tr>\n",
       "      <th>547</th>\n",
       "      <td>54</td>\n",
       "      <td>0</td>\n",
       "      <td>46.700</td>\n",
       "      <td>2</td>\n",
       "      <td>1</td>\n",
       "      <td>0</td>\n",
       "      <td>11538.42100</td>\n",
       "    </tr>\n",
       "    <tr>\n",
       "      <th>549</th>\n",
       "      <td>43</td>\n",
       "      <td>0</td>\n",
       "      <td>46.200</td>\n",
       "      <td>0</td>\n",
       "      <td>0</td>\n",
       "      <td>1</td>\n",
       "      <td>45863.20500</td>\n",
       "    </tr>\n",
       "    <tr>\n",
       "      <th>563</th>\n",
       "      <td>50</td>\n",
       "      <td>1</td>\n",
       "      <td>44.770</td>\n",
       "      <td>1</td>\n",
       "      <td>1</td>\n",
       "      <td>1</td>\n",
       "      <td>9058.73030</td>\n",
       "    </tr>\n",
       "    <tr>\n",
       "      <th>572</th>\n",
       "      <td>30</td>\n",
       "      <td>0</td>\n",
       "      <td>43.120</td>\n",
       "      <td>2</td>\n",
       "      <td>1</td>\n",
       "      <td>1</td>\n",
       "      <td>4753.63680</td>\n",
       "    </tr>\n",
       "    <tr>\n",
       "      <th>582</th>\n",
       "      <td>39</td>\n",
       "      <td>1</td>\n",
       "      <td>45.430</td>\n",
       "      <td>2</td>\n",
       "      <td>1</td>\n",
       "      <td>1</td>\n",
       "      <td>6356.27070</td>\n",
       "    </tr>\n",
       "    <tr>\n",
       "      <th>660</th>\n",
       "      <td>37</td>\n",
       "      <td>1</td>\n",
       "      <td>46.530</td>\n",
       "      <td>3</td>\n",
       "      <td>1</td>\n",
       "      <td>1</td>\n",
       "      <td>6435.62370</td>\n",
       "    </tr>\n",
       "    <tr>\n",
       "      <th>674</th>\n",
       "      <td>44</td>\n",
       "      <td>0</td>\n",
       "      <td>43.890</td>\n",
       "      <td>2</td>\n",
       "      <td>0</td>\n",
       "      <td>1</td>\n",
       "      <td>46200.98510</td>\n",
       "    </tr>\n",
       "    <tr>\n",
       "      <th>680</th>\n",
       "      <td>21</td>\n",
       "      <td>0</td>\n",
       "      <td>17.400</td>\n",
       "      <td>1</td>\n",
       "      <td>1</td>\n",
       "      <td>0</td>\n",
       "      <td>2585.26900</td>\n",
       "    </tr>\n",
       "    <tr>\n",
       "      <th>701</th>\n",
       "      <td>50</td>\n",
       "      <td>0</td>\n",
       "      <td>44.745</td>\n",
       "      <td>0</td>\n",
       "      <td>1</td>\n",
       "      <td>3</td>\n",
       "      <td>9541.69555</td>\n",
       "    </tr>\n",
       "    <tr>\n",
       "      <th>796</th>\n",
       "      <td>30</td>\n",
       "      <td>1</td>\n",
       "      <td>44.220</td>\n",
       "      <td>2</td>\n",
       "      <td>1</td>\n",
       "      <td>1</td>\n",
       "      <td>4266.16580</td>\n",
       "    </tr>\n",
       "    <tr>\n",
       "      <th>821</th>\n",
       "      <td>26</td>\n",
       "      <td>1</td>\n",
       "      <td>17.670</td>\n",
       "      <td>0</td>\n",
       "      <td>1</td>\n",
       "      <td>2</td>\n",
       "      <td>2680.94930</td>\n",
       "    </tr>\n",
       "    <tr>\n",
       "      <th>847</th>\n",
       "      <td>23</td>\n",
       "      <td>1</td>\n",
       "      <td>50.380</td>\n",
       "      <td>1</td>\n",
       "      <td>1</td>\n",
       "      <td>1</td>\n",
       "      <td>2438.05520</td>\n",
       "    </tr>\n",
       "    <tr>\n",
       "      <th>860</th>\n",
       "      <td>37</td>\n",
       "      <td>0</td>\n",
       "      <td>47.600</td>\n",
       "      <td>2</td>\n",
       "      <td>0</td>\n",
       "      <td>0</td>\n",
       "      <td>46113.51100</td>\n",
       "    </tr>\n",
       "    <tr>\n",
       "      <th>867</th>\n",
       "      <td>57</td>\n",
       "      <td>1</td>\n",
       "      <td>43.700</td>\n",
       "      <td>1</td>\n",
       "      <td>1</td>\n",
       "      <td>0</td>\n",
       "      <td>11576.13000</td>\n",
       "    </tr>\n",
       "    <tr>\n",
       "      <th>895</th>\n",
       "      <td>61</td>\n",
       "      <td>0</td>\n",
       "      <td>44.000</td>\n",
       "      <td>0</td>\n",
       "      <td>1</td>\n",
       "      <td>0</td>\n",
       "      <td>13063.88300</td>\n",
       "    </tr>\n",
       "    <tr>\n",
       "      <th>930</th>\n",
       "      <td>26</td>\n",
       "      <td>1</td>\n",
       "      <td>46.530</td>\n",
       "      <td>1</td>\n",
       "      <td>1</td>\n",
       "      <td>1</td>\n",
       "      <td>2927.06470</td>\n",
       "    </tr>\n",
       "    <tr>\n",
       "      <th>941</th>\n",
       "      <td>50</td>\n",
       "      <td>0</td>\n",
       "      <td>46.090</td>\n",
       "      <td>1</td>\n",
       "      <td>1</td>\n",
       "      <td>1</td>\n",
       "      <td>9549.56510</td>\n",
       "    </tr>\n",
       "    <tr>\n",
       "      <th>1024</th>\n",
       "      <td>47</td>\n",
       "      <td>0</td>\n",
       "      <td>45.320</td>\n",
       "      <td>1</td>\n",
       "      <td>1</td>\n",
       "      <td>1</td>\n",
       "      <td>8569.86180</td>\n",
       "    </tr>\n",
       "    <tr>\n",
       "      <th>1029</th>\n",
       "      <td>37</td>\n",
       "      <td>0</td>\n",
       "      <td>17.290</td>\n",
       "      <td>2</td>\n",
       "      <td>1</td>\n",
       "      <td>3</td>\n",
       "      <td>6877.98010</td>\n",
       "    </tr>\n",
       "    <tr>\n",
       "      <th>1047</th>\n",
       "      <td>22</td>\n",
       "      <td>1</td>\n",
       "      <td>52.580</td>\n",
       "      <td>1</td>\n",
       "      <td>0</td>\n",
       "      <td>1</td>\n",
       "      <td>44501.39820</td>\n",
       "    </tr>\n",
       "    <tr>\n",
       "      <th>1088</th>\n",
       "      <td>52</td>\n",
       "      <td>1</td>\n",
       "      <td>47.740</td>\n",
       "      <td>1</td>\n",
       "      <td>1</td>\n",
       "      <td>1</td>\n",
       "      <td>9748.91060</td>\n",
       "    </tr>\n",
       "    <tr>\n",
       "      <th>1131</th>\n",
       "      <td>27</td>\n",
       "      <td>1</td>\n",
       "      <td>45.900</td>\n",
       "      <td>2</td>\n",
       "      <td>1</td>\n",
       "      <td>0</td>\n",
       "      <td>3693.42800</td>\n",
       "    </tr>\n",
       "    <tr>\n",
       "      <th>1156</th>\n",
       "      <td>19</td>\n",
       "      <td>1</td>\n",
       "      <td>44.880</td>\n",
       "      <td>0</td>\n",
       "      <td>0</td>\n",
       "      <td>1</td>\n",
       "      <td>39722.74620</td>\n",
       "    </tr>\n",
       "    <tr>\n",
       "      <th>1205</th>\n",
       "      <td>35</td>\n",
       "      <td>1</td>\n",
       "      <td>17.860</td>\n",
       "      <td>1</td>\n",
       "      <td>1</td>\n",
       "      <td>2</td>\n",
       "      <td>5116.50040</td>\n",
       "    </tr>\n",
       "    <tr>\n",
       "      <th>1226</th>\n",
       "      <td>38</td>\n",
       "      <td>1</td>\n",
       "      <td>16.815</td>\n",
       "      <td>2</td>\n",
       "      <td>1</td>\n",
       "      <td>3</td>\n",
       "      <td>6640.54485</td>\n",
       "    </tr>\n",
       "    <tr>\n",
       "      <th>1286</th>\n",
       "      <td>28</td>\n",
       "      <td>0</td>\n",
       "      <td>17.290</td>\n",
       "      <td>0</td>\n",
       "      <td>1</td>\n",
       "      <td>3</td>\n",
       "      <td>3732.62510</td>\n",
       "    </tr>\n",
       "    <tr>\n",
       "      <th>1317</th>\n",
       "      <td>18</td>\n",
       "      <td>1</td>\n",
       "      <td>53.130</td>\n",
       "      <td>0</td>\n",
       "      <td>1</td>\n",
       "      <td>1</td>\n",
       "      <td>1163.46270</td>\n",
       "    </tr>\n",
       "    <tr>\n",
       "      <th>1332</th>\n",
       "      <td>52</td>\n",
       "      <td>0</td>\n",
       "      <td>44.700</td>\n",
       "      <td>3</td>\n",
       "      <td>1</td>\n",
       "      <td>0</td>\n",
       "      <td>11411.68500</td>\n",
       "    </tr>\n",
       "  </tbody>\n",
       "</table>\n",
       "</div>"
      ],
      "text/plain": [
       "      age  sex     bmi  children  smoker  region      charges\n",
       "28     23    1  17.385         1       1       2   2775.19215\n",
       "116    58    1  49.060         0       1       1  11381.32540\n",
       "128    32    0  17.765         2       0       2  32734.18630\n",
       "172    18    1  15.960         0       1       3   1694.79640\n",
       "232    19    0  17.800         0       1       0   1727.78500\n",
       "250    18    1  17.290         2       0       3  12829.45510\n",
       "286    46    0  48.070         2       1       3   9432.92530\n",
       "292    25    1  45.540         2       0       1  42112.23560\n",
       "356    46    1  43.890         3       1       1   8944.11510\n",
       "383    35    0  43.340         2       1       1   5846.91760\n",
       "401    47    1  47.520         1       1       1   8083.91980\n",
       "410    19    1  17.480         0       1       2   1621.34020\n",
       "412    26    0  17.195         2       0       3  14455.64405\n",
       "428    21    0  16.815         1       1       3   3167.45585\n",
       "438    52    0  46.750         5       1       1  12592.53450\n",
       "454    32    1  46.530         2       1       1   4686.38870\n",
       "493    61    1  43.400         0       1       0  12574.04900\n",
       "521    32    0  44.220         0       1       1   3994.17780\n",
       "543    54    0  47.410         0       0       1  63770.42801\n",
       "547    54    0  46.700         2       1       0  11538.42100\n",
       "549    43    0  46.200         0       0       1  45863.20500\n",
       "563    50    1  44.770         1       1       1   9058.73030\n",
       "572    30    0  43.120         2       1       1   4753.63680\n",
       "582    39    1  45.430         2       1       1   6356.27070\n",
       "660    37    1  46.530         3       1       1   6435.62370\n",
       "674    44    0  43.890         2       0       1  46200.98510\n",
       "680    21    0  17.400         1       1       0   2585.26900\n",
       "701    50    0  44.745         0       1       3   9541.69555\n",
       "796    30    1  44.220         2       1       1   4266.16580\n",
       "821    26    1  17.670         0       1       2   2680.94930\n",
       "847    23    1  50.380         1       1       1   2438.05520\n",
       "860    37    0  47.600         2       0       0  46113.51100\n",
       "867    57    1  43.700         1       1       0  11576.13000\n",
       "895    61    0  44.000         0       1       0  13063.88300\n",
       "930    26    1  46.530         1       1       1   2927.06470\n",
       "941    50    0  46.090         1       1       1   9549.56510\n",
       "1024   47    0  45.320         1       1       1   8569.86180\n",
       "1029   37    0  17.290         2       1       3   6877.98010\n",
       "1047   22    1  52.580         1       0       1  44501.39820\n",
       "1088   52    1  47.740         1       1       1   9748.91060\n",
       "1131   27    1  45.900         2       1       0   3693.42800\n",
       "1156   19    1  44.880         0       0       1  39722.74620\n",
       "1205   35    1  17.860         1       1       2   5116.50040\n",
       "1226   38    1  16.815         2       1       3   6640.54485\n",
       "1286   28    0  17.290         0       1       3   3732.62510\n",
       "1317   18    1  53.130         0       1       1   1163.46270\n",
       "1332   52    0  44.700         3       1       0  11411.68500"
      ]
     },
     "execution_count": 107,
     "metadata": {},
     "output_type": "execute_result"
    }
   ],
   "source": [
    "out"
   ]
  },
  {
   "cell_type": "markdown",
   "metadata": {},
   "source": [
    "It is observed in the extracted outliers that people with high BMI also have high charges. In this case, it does not seem logical to replace these outliers with the mean since we have seen that BMI and charge are related. Therefore, we will create two datasets, one without outliers and another with outliers, and train the model with both"
   ]
  },
  {
   "cell_type": "code",
   "execution_count": 108,
   "metadata": {},
   "outputs": [
    {
     "name": "stdout",
     "output_type": "stream",
     "text": [
      "43.09125 17.89875\n",
      "47 outliers have been treated by dropping\n"
     ]
    },
    {
     "data": {
      "text/plain": [
       "(1338, 7)"
      ]
     },
     "execution_count": 108,
     "metadata": {},
     "output_type": "execute_result"
    }
   ],
   "source": [
    "outliers, cleaned =EDA.outliers_iqr(raw_df,'bmi',1,Do='drop')\n",
    "raw_df.shape"
   ]
  },
  {
   "cell_type": "code",
   "execution_count": 109,
   "metadata": {},
   "outputs": [],
   "source": [
    "if not os.path.exists('../data/processed/NoSplit/'):\n",
    "    os.makedirs('../data/processed/NoSplit/')"
   ]
  },
  {
   "cell_type": "code",
   "execution_count": 110,
   "metadata": {},
   "outputs": [],
   "source": [
    "outliers.to_csv('../data/processed/NoSplit/Outliers-bmi.csv', index=False)\n",
    "cleaned.to_csv('../data/processed/Cleaned_Out-bmi.csv', index=False)\n",
    "raw_df.to_csv('../data/processed/All_factorize.csv', index=False)"
   ]
  },
  {
   "cell_type": "markdown",
   "metadata": {},
   "source": [
    "#### 5.2 Feature scaling\n",
    "First, we divide the data"
   ]
  },
  {
   "cell_type": "code",
   "execution_count": 111,
   "metadata": {},
   "outputs": [
    {
     "data": {
      "text/plain": [
       "Index(['age', 'sex', 'bmi', 'children', 'smoker', 'region', 'charges'], dtype='object')"
      ]
     },
     "execution_count": 111,
     "metadata": {},
     "output_type": "execute_result"
    }
   ],
   "source": [
    "raw_df.columns"
   ]
  },
  {
   "cell_type": "code",
   "execution_count": 112,
   "metadata": {},
   "outputs": [],
   "source": [
    "predictors = ['age', 'sex', 'bmi', 'children', 'smoker', 'region']\n",
    "target = 'charges'\n",
    "EDA.splitter('../data/processed/',predictors,target)"
   ]
  },
  {
   "cell_type": "markdown",
   "metadata": {},
   "source": [
    "Now we normalize X_test and X_train"
   ]
  },
  {
   "cell_type": "code",
   "execution_count": 113,
   "metadata": {},
   "outputs": [],
   "source": [
    "EDA.normalize('../data/processed/SplitData/',predictors,scaler_='StandardScaler')"
   ]
  },
  {
   "cell_type": "markdown",
   "metadata": {},
   "source": [
    "Now we make the feaure selection. As there are high correlations and target is numerical, we use mutual_info_regression"
   ]
  },
  {
   "cell_type": "code",
   "execution_count": 114,
   "metadata": {},
   "outputs": [
    {
     "name": "stderr",
     "output_type": "stream",
     "text": [
      "/home/vscode/.local/lib/python3.10/site-packages/sklearn/utils/validation.py:1300: DataConversionWarning: A column-vector y was passed when a 1d array was expected. Please change the shape of y to (n_samples, ), for example using ravel().\n",
      "  y = column_or_1d(y, warn=True)\n"
     ]
    },
    {
     "data": {
      "text/html": [
       "<div>\n",
       "<style scoped>\n",
       "    .dataframe tbody tr th:only-of-type {\n",
       "        vertical-align: middle;\n",
       "    }\n",
       "\n",
       "    .dataframe tbody tr th {\n",
       "        vertical-align: top;\n",
       "    }\n",
       "\n",
       "    .dataframe thead th {\n",
       "        text-align: right;\n",
       "    }\n",
       "</style>\n",
       "<table border=\"1\" class=\"dataframe\">\n",
       "  <thead>\n",
       "    <tr style=\"text-align: right;\">\n",
       "      <th></th>\n",
       "      <th>age</th>\n",
       "      <th>sex</th>\n",
       "      <th>children</th>\n",
       "      <th>smoker</th>\n",
       "    </tr>\n",
       "  </thead>\n",
       "  <tbody>\n",
       "    <tr>\n",
       "      <th>0</th>\n",
       "      <td>1.544465</td>\n",
       "      <td>-1.025978</td>\n",
       "      <td>-0.915011</td>\n",
       "      <td>0.512989</td>\n",
       "    </tr>\n",
       "    <tr>\n",
       "      <th>1</th>\n",
       "      <td>0.481874</td>\n",
       "      <td>0.974679</td>\n",
       "      <td>-0.915011</td>\n",
       "      <td>0.512989</td>\n",
       "    </tr>\n",
       "    <tr>\n",
       "      <th>2</th>\n",
       "      <td>1.048589</td>\n",
       "      <td>-1.025978</td>\n",
       "      <td>1.560279</td>\n",
       "      <td>0.512989</td>\n",
       "    </tr>\n",
       "    <tr>\n",
       "      <th>3</th>\n",
       "      <td>1.119429</td>\n",
       "      <td>0.974679</td>\n",
       "      <td>-0.915011</td>\n",
       "      <td>-1.949359</td>\n",
       "    </tr>\n",
       "    <tr>\n",
       "      <th>4</th>\n",
       "      <td>-1.005753</td>\n",
       "      <td>0.974679</td>\n",
       "      <td>0.735182</td>\n",
       "      <td>-1.949359</td>\n",
       "    </tr>\n",
       "    <tr>\n",
       "      <th>...</th>\n",
       "      <td>...</td>\n",
       "      <td>...</td>\n",
       "      <td>...</td>\n",
       "      <td>...</td>\n",
       "    </tr>\n",
       "    <tr>\n",
       "      <th>931</th>\n",
       "      <td>-1.501628</td>\n",
       "      <td>-1.025978</td>\n",
       "      <td>2.385375</td>\n",
       "      <td>0.512989</td>\n",
       "    </tr>\n",
       "    <tr>\n",
       "      <th>932</th>\n",
       "      <td>-0.014001</td>\n",
       "      <td>-1.025978</td>\n",
       "      <td>3.210472</td>\n",
       "      <td>0.512989</td>\n",
       "    </tr>\n",
       "    <tr>\n",
       "      <th>933</th>\n",
       "      <td>1.331947</td>\n",
       "      <td>0.974679</td>\n",
       "      <td>-0.915011</td>\n",
       "      <td>0.512989</td>\n",
       "    </tr>\n",
       "    <tr>\n",
       "      <th>934</th>\n",
       "      <td>-0.155680</td>\n",
       "      <td>-1.025978</td>\n",
       "      <td>0.735182</td>\n",
       "      <td>-1.949359</td>\n",
       "    </tr>\n",
       "    <tr>\n",
       "      <th>935</th>\n",
       "      <td>1.119429</td>\n",
       "      <td>0.974679</td>\n",
       "      <td>-0.915011</td>\n",
       "      <td>0.512989</td>\n",
       "    </tr>\n",
       "  </tbody>\n",
       "</table>\n",
       "<p>936 rows × 4 columns</p>\n",
       "</div>"
      ],
      "text/plain": [
       "          age       sex  children    smoker\n",
       "0    1.544465 -1.025978 -0.915011  0.512989\n",
       "1    0.481874  0.974679 -0.915011  0.512989\n",
       "2    1.048589 -1.025978  1.560279  0.512989\n",
       "3    1.119429  0.974679 -0.915011 -1.949359\n",
       "4   -1.005753  0.974679  0.735182 -1.949359\n",
       "..        ...       ...       ...       ...\n",
       "931 -1.501628 -1.025978  2.385375  0.512989\n",
       "932 -0.014001 -1.025978  3.210472  0.512989\n",
       "933  1.331947  0.974679 -0.915011  0.512989\n",
       "934 -0.155680 -1.025978  0.735182 -1.949359\n",
       "935  1.119429  0.974679 -0.915011  0.512989\n",
       "\n",
       "[936 rows x 4 columns]"
      ]
     },
     "execution_count": 114,
     "metadata": {},
     "output_type": "execute_result"
    }
   ],
   "source": [
    "All_X_train = pd.read_csv('../data/processed/SplitData/NormData/All_factorize_Xtrain_norm.csv')\n",
    "All_y_train = pd.read_csv('../data/processed/SplitData/All_factorize_ytrain.csv')\n",
    "\n",
    "EDA.feature_sel(All_X_train,All_y_train,k_=4,file_name='All_Xtrain',method_='SelectKBest', test_='mutual_info_regression')"
   ]
  },
  {
   "cell_type": "code",
   "execution_count": 115,
   "metadata": {},
   "outputs": [
    {
     "name": "stderr",
     "output_type": "stream",
     "text": [
      "/home/vscode/.local/lib/python3.10/site-packages/sklearn/utils/validation.py:1300: DataConversionWarning: A column-vector y was passed when a 1d array was expected. Please change the shape of y to (n_samples, ), for example using ravel().\n",
      "  y = column_or_1d(y, warn=True)\n"
     ]
    },
    {
     "data": {
      "text/html": [
       "<div>\n",
       "<style scoped>\n",
       "    .dataframe tbody tr th:only-of-type {\n",
       "        vertical-align: middle;\n",
       "    }\n",
       "\n",
       "    .dataframe tbody tr th {\n",
       "        vertical-align: top;\n",
       "    }\n",
       "\n",
       "    .dataframe thead th {\n",
       "        text-align: right;\n",
       "    }\n",
       "</style>\n",
       "<table border=\"1\" class=\"dataframe\">\n",
       "  <thead>\n",
       "    <tr style=\"text-align: right;\">\n",
       "      <th></th>\n",
       "      <th>age</th>\n",
       "      <th>sex</th>\n",
       "      <th>children</th>\n",
       "      <th>smoker</th>\n",
       "    </tr>\n",
       "  </thead>\n",
       "  <tbody>\n",
       "    <tr>\n",
       "      <th>0</th>\n",
       "      <td>-0.603896</td>\n",
       "      <td>-0.985706</td>\n",
       "      <td>1.585254</td>\n",
       "      <td>0.490290</td>\n",
       "    </tr>\n",
       "    <tr>\n",
       "      <th>1</th>\n",
       "      <td>0.894231</td>\n",
       "      <td>1.014502</td>\n",
       "      <td>-0.894222</td>\n",
       "      <td>0.490290</td>\n",
       "    </tr>\n",
       "    <tr>\n",
       "      <th>2</th>\n",
       "      <td>-1.245951</td>\n",
       "      <td>1.014502</td>\n",
       "      <td>-0.894222</td>\n",
       "      <td>0.490290</td>\n",
       "    </tr>\n",
       "    <tr>\n",
       "      <th>3</th>\n",
       "      <td>-0.675236</td>\n",
       "      <td>1.014502</td>\n",
       "      <td>1.585254</td>\n",
       "      <td>0.490290</td>\n",
       "    </tr>\n",
       "    <tr>\n",
       "      <th>4</th>\n",
       "      <td>0.537534</td>\n",
       "      <td>1.014502</td>\n",
       "      <td>1.585254</td>\n",
       "      <td>-2.039608</td>\n",
       "    </tr>\n",
       "    <tr>\n",
       "      <th>...</th>\n",
       "      <td>...</td>\n",
       "      <td>...</td>\n",
       "      <td>...</td>\n",
       "      <td>...</td>\n",
       "    </tr>\n",
       "    <tr>\n",
       "      <th>898</th>\n",
       "      <td>-0.532557</td>\n",
       "      <td>1.014502</td>\n",
       "      <td>-0.067730</td>\n",
       "      <td>0.490290</td>\n",
       "    </tr>\n",
       "    <tr>\n",
       "      <th>899</th>\n",
       "      <td>0.323516</td>\n",
       "      <td>-0.985706</td>\n",
       "      <td>-0.067730</td>\n",
       "      <td>0.490290</td>\n",
       "    </tr>\n",
       "    <tr>\n",
       "      <th>900</th>\n",
       "      <td>1.179589</td>\n",
       "      <td>-0.985706</td>\n",
       "      <td>-0.894222</td>\n",
       "      <td>0.490290</td>\n",
       "    </tr>\n",
       "    <tr>\n",
       "      <th>901</th>\n",
       "      <td>0.537534</td>\n",
       "      <td>1.014502</td>\n",
       "      <td>0.758762</td>\n",
       "      <td>-2.039608</td>\n",
       "    </tr>\n",
       "    <tr>\n",
       "      <th>902</th>\n",
       "      <td>-0.532557</td>\n",
       "      <td>1.014502</td>\n",
       "      <td>0.758762</td>\n",
       "      <td>0.490290</td>\n",
       "    </tr>\n",
       "  </tbody>\n",
       "</table>\n",
       "<p>903 rows × 4 columns</p>\n",
       "</div>"
      ],
      "text/plain": [
       "          age       sex  children    smoker\n",
       "0   -0.603896 -0.985706  1.585254  0.490290\n",
       "1    0.894231  1.014502 -0.894222  0.490290\n",
       "2   -1.245951  1.014502 -0.894222  0.490290\n",
       "3   -0.675236  1.014502  1.585254  0.490290\n",
       "4    0.537534  1.014502  1.585254 -2.039608\n",
       "..        ...       ...       ...       ...\n",
       "898 -0.532557  1.014502 -0.067730  0.490290\n",
       "899  0.323516 -0.985706 -0.067730  0.490290\n",
       "900  1.179589 -0.985706 -0.894222  0.490290\n",
       "901  0.537534  1.014502  0.758762 -2.039608\n",
       "902 -0.532557  1.014502  0.758762  0.490290\n",
       "\n",
       "[903 rows x 4 columns]"
      ]
     },
     "execution_count": 115,
     "metadata": {},
     "output_type": "execute_result"
    }
   ],
   "source": [
    "Cleaned_X_train = pd.read_csv('../data/processed/SplitData/NormData/Cleaned_Out-bmi_Xtrain_norm.csv')\n",
    "Cleaned_y_train = pd.read_csv('../data/processed/SplitData/Cleaned_Out-bmi_ytrain.csv')\n",
    "EDA.feature_sel(Cleaned_X_train,Cleaned_y_train,k_=4,file_name='Cleaned_Xtrain',method_='SelectKBest', test_='mutual_info_regression')\n"
   ]
  },
  {
   "cell_type": "markdown",
   "metadata": {},
   "source": [
    "### 6. Linear Regression\n",
    "#### 6.1 Init model"
   ]
  },
  {
   "cell_type": "code",
   "execution_count": 116,
   "metadata": {},
   "outputs": [],
   "source": [
    "from sklearn.linear_model import LinearRegression\n",
    "All_X_train_fsel = pd.read_csv('../data/processed/SplitData/FeatureSel/All_FeatureSel.csv')\n",
    "Cleaned_X_train_fsel = pd.read_csv('../data/processed/SplitData/FeatureSel/Cleaned_FeatureSel.csv')\n",
    "model = LinearRegression()"
   ]
  },
  {
   "cell_type": "markdown",
   "metadata": {},
   "source": [
    "#### 6.2 Train model for all data"
   ]
  },
  {
   "cell_type": "code",
   "execution_count": 117,
   "metadata": {},
   "outputs": [
    {
     "name": "stdout",
     "output_type": "stream",
     "text": [
      "a: [13379.15730677]\n",
      "b: [[ 3911.40003411    76.3584603    500.53736612 -9594.24917722]]\n"
     ]
    }
   ],
   "source": [
    "model.fit(All_X_train_fsel, All_y_train)\n",
    "print(f\"a: {model.intercept_}\")\n",
    "print(f\"b: {model.coef_}\")"
   ]
  },
  {
   "cell_type": "markdown",
   "metadata": {},
   "source": [
    "#### 6.3 Prediction and evaluation for all data"
   ]
  },
  {
   "cell_type": "code",
   "execution_count": 118,
   "metadata": {},
   "outputs": [
    {
     "data": {
      "text/plain": [
       "Index(['age', 'sex', 'children', 'smoker'], dtype='object')"
      ]
     },
     "execution_count": 118,
     "metadata": {},
     "output_type": "execute_result"
    }
   ],
   "source": [
    "All_X_train_fsel.columns"
   ]
  },
  {
   "cell_type": "code",
   "execution_count": 119,
   "metadata": {},
   "outputs": [
    {
     "name": "stdout",
     "output_type": "stream",
     "text": [
      "MSE: 37499815.32938414\n",
      "R2: 0.7442455765488636\n"
     ]
    }
   ],
   "source": [
    "from sklearn.metrics import mean_squared_error, r2_score\n",
    "All_X_test = pd.read_csv('../data/processed/SplitData/NormData/All_factorize_Xtest_norm.csv')\n",
    "All_X_test_sel = All_X_test[All_X_train_fsel.columns]\n",
    "\n",
    "All_y_test = pd.read_csv('../data/processed/SplitData/All_factorize_ytest.csv')\n",
    "\n",
    "All_y_pred = model.predict(All_X_test_sel)\n",
    "\n",
    "\n",
    "print(f\"MSE: {mean_squared_error(All_y_test, All_y_pred)}\")\n",
    "print(f\"R2: {r2_score(All_y_test, All_y_pred)}\")"
   ]
  },
  {
   "cell_type": "markdown",
   "metadata": {},
   "source": [
    "#### 6.4 Train model for clean data"
   ]
  },
  {
   "cell_type": "code",
   "execution_count": 120,
   "metadata": {},
   "outputs": [
    {
     "name": "stdout",
     "output_type": "stream",
     "text": [
      "a: [13141.03157651]\n",
      "b: [[ 3831.95832918   206.94841977   709.15390911 -9350.19776576]]\n"
     ]
    }
   ],
   "source": [
    "model.fit(Cleaned_X_train_fsel, Cleaned_y_train)\n",
    "print(f\"a: {model.intercept_}\")\n",
    "print(f\"b: {model.coef_}\")"
   ]
  },
  {
   "cell_type": "code",
   "execution_count": 121,
   "metadata": {},
   "outputs": [
    {
     "data": {
      "text/plain": [
       "Index(['age', 'sex', 'children', 'smoker'], dtype='object')"
      ]
     },
     "execution_count": 121,
     "metadata": {},
     "output_type": "execute_result"
    }
   ],
   "source": [
    "Cleaned_X_train_fsel.columns"
   ]
  },
  {
   "cell_type": "markdown",
   "metadata": {},
   "source": [
    "#### 6.5 Prediction and evaluation for clean data"
   ]
  },
  {
   "cell_type": "code",
   "execution_count": 122,
   "metadata": {},
   "outputs": [
    {
     "name": "stdout",
     "output_type": "stream",
     "text": [
      "MSE: 37423623.1499536\n",
      "R2: 0.7391770349868748\n"
     ]
    }
   ],
   "source": [
    "from sklearn.metrics import mean_squared_error, r2_score\n",
    "Cleaned_X_test = pd.read_csv('../data/processed/SplitData/NormData/Cleaned_Out-bmi_Xtest_norm.csv')\n",
    "Cleaned_X_test_sel = Cleaned_X_test[Cleaned_X_train_fsel.columns]\n",
    "\n",
    "Cleaned_y_test = pd.read_csv('../data/processed/SplitData/Cleaned_Out-bmi_ytest.csv')\n",
    "\n",
    "Cleaned_y_pred = model.predict(Cleaned_X_test_sel)\n",
    "\n",
    "\n",
    "print(f\"MSE: {mean_squared_error(Cleaned_y_test, Cleaned_y_pred)}\")\n",
    "print(f\"R2: {r2_score(Cleaned_y_test, Cleaned_y_pred)}\")"
   ]
  },
  {
   "cell_type": "markdown",
   "metadata": {},
   "source": [
    "## 7. Conclusions\n",
    "Linear regression cannot be optimized, so after training the model with the data with and without the outliers identified in 'bmi', we see that it makes better predictions if we train it with the outliers included, as the R2 of the model trained with all the data (74.42%) is higher than the R2 of the model trained without outliers (73.91%). However, this model does not makes so good predictions."
   ]
  },
  {
   "cell_type": "code",
   "execution_count": null,
   "metadata": {},
   "outputs": [],
   "source": []
  }
 ],
 "metadata": {
  "kernelspec": {
   "display_name": "Python 3",
   "language": "python",
   "name": "python3"
  },
  "language_info": {
   "codemirror_mode": {
    "name": "ipython",
    "version": 3
   },
   "file_extension": ".py",
   "mimetype": "text/x-python",
   "name": "python",
   "nbconvert_exporter": "python",
   "pygments_lexer": "ipython3",
   "version": "3.10.12"
  }
 },
 "nbformat": 4,
 "nbformat_minor": 2
}
